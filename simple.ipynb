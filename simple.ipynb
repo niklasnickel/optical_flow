{
 "cells": [
  {
   "metadata": {},
   "cell_type": "markdown",
   "source": "# Optical flow",
   "id": "8a77807f92f26ee"
  },
  {
   "metadata": {
    "ExecuteTime": {
     "end_time": "2024-12-28T16:54:57.598415Z",
     "start_time": "2024-12-28T16:54:46.843904Z"
    }
   },
   "cell_type": "code",
   "source": [
    "# Import libraries\n",
    "!pip install --user -r requirements.txt"
   ],
   "id": "cd791e75628c6d35",
   "outputs": [
    {
     "name": "stdout",
     "output_type": "stream",
     "text": [
      "\u001B[34mMPI-Sintel-complete\u001B[m\u001B[m requirements.txt    simple.ipynb        \u001B[34mvenv\u001B[m\u001B[m\r\n",
      "Collecting opencv-python-headless (from -r requirements.txt (line 1))\r\n",
      "  Downloading opencv_python_headless-4.10.0.84-cp37-abi3-macosx_11_0_arm64.whl.metadata (20 kB)\r\n",
      "Requirement already satisfied: numpy>=1.21.2 in /Library/Frameworks/Python.framework/Versions/3.13/lib/python3.13/site-packages (from opencv-python-headless->-r requirements.txt (line 1)) (2.1.3)\r\n",
      "Downloading opencv_python_headless-4.10.0.84-cp37-abi3-macosx_11_0_arm64.whl (54.8 MB)\r\n",
      "\u001B[2K   \u001B[90m━━━━━━━━━━━━━━━━━━━━━━━━━━━━━━━━━━━━━━━━\u001B[0m \u001B[32m54.8/54.8 MB\u001B[0m \u001B[31m6.1 MB/s\u001B[0m eta \u001B[36m0:00:00\u001B[0m00:01\u001B[0m00:01\u001B[0m\r\n",
      "\u001B[?25hInstalling collected packages: opencv-python-headless\r\n",
      "Successfully installed opencv-python-headless-4.10.0.84\r\n"
     ]
    }
   ],
   "execution_count": 10
  },
  {
   "metadata": {
    "ExecuteTime": {
     "end_time": "2024-12-28T16:55:28.972761Z",
     "start_time": "2024-12-28T16:55:28.964532Z"
    }
   },
   "cell_type": "code",
   "source": [
    "import cv2\n",
    "print(\"Installed opencv version\", cv2.__version__)\n",
    "\n",
    "import matplotlib.pyplot as plt"
   ],
   "id": "7df9140457caed5e",
   "outputs": [
    {
     "name": "stdout",
     "output_type": "stream",
     "text": [
      "Installed opencv version  4.10.0\n"
     ]
    }
   ],
   "execution_count": 12
  },
  {
   "metadata": {},
   "cell_type": "markdown",
   "source": [
    "### Interactive tables\n",
    "\n",
    "Effortlessly view, navigate, sort, and filter data. Create charts and access essential data insights, including descriptive statistics and missing values – all without writing a single line of code."
   ],
   "id": "2e44cfe2f556cba1"
  },
  {
   "metadata": {
    "collapsed": true
   },
   "cell_type": "code",
   "source": [
    "# Defining data for the dataframe\n",
    "data = {\n",
    "    'Basket': ['A', 'B', 'C', 'D', 'E', 'F', 'G', 'H', 'I', 'J', 'K', 'L', 'M', 'N', 'O', 'P'],\n",
    "    'Apples': [10, 20, 30, 56, 40, 40, 67, 47, 40, 4, 49, 52, 5, 56, 35, 45],\n",
    "    'Bananas': [15, 6, 3, 45, 67, 44, 45, 11, 14, 18, 13, 12, 1, 34, 12, 12]\n",
    "}\n",
    "\n",
    "# Creating the dataframe\n",
    "df = pd.DataFrame(data)\n",
    "\n",
    "df"
   ],
   "id": "initial_id",
   "outputs": [],
   "execution_count": null
  },
  {
   "metadata": {},
   "cell_type": "markdown",
   "source": [
    "### Visualization in IDE\n",
    "\n",
    "Create graphs and visualizations that match your chosen color scheme."
   ],
   "id": "62a8c026dc794d85"
  },
  {
   "metadata": {},
   "cell_type": "code",
   "source": [
    "# Calculate the sums\n",
    "sum_apples = df['Apples'].sum()\n",
    "sum_bananas = df['Bananas'].sum()\n",
    "\n",
    "# Create a bar chart\n",
    "plt.bar(['Apples', 'Bananas'], [sum_apples, sum_bananas], color=['red', 'blue'])\n",
    "\n",
    "# Set a title\n",
    "plt.title('Comparison of total Apples and Bananas')\n",
    "\n",
    "# Show the plot\n",
    "plt.show()"
   ],
   "id": "e65e58a1b7e04493",
   "outputs": [],
   "execution_count": null
  }
 ],
 "metadata": {
  "kernelspec": {
   "display_name": "Python 3",
   "language": "python",
   "name": "python3"
  },
  "language_info": {
   "codemirror_mode": {
    "name": "ipython",
    "version": 2
   },
   "file_extension": ".py",
   "mimetype": "text/x-python",
   "name": "python",
   "nbconvert_exporter": "python",
   "pygments_lexer": "ipython2",
   "version": "2.7.6"
  }
 },
 "nbformat": 4,
 "nbformat_minor": 5
}
