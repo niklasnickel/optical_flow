{
 "cells": [
  {
   "metadata": {},
   "cell_type": "markdown",
   "source": "# Optical flow",
   "id": "8a77807f92f26ee"
  },
  {
   "metadata": {},
   "cell_type": "code",
   "source": [
    "# Install libraries\n",
    "!pip install -r requirements.txt"
   ],
   "id": "cd791e75628c6d35",
   "outputs": [],
   "execution_count": null
  },
  {
   "metadata": {
    "ExecuteTime": {
     "end_time": "2025-01-01T12:59:11.238859Z",
     "start_time": "2025-01-01T12:59:10.545155Z"
    }
   },
   "cell_type": "code",
   "source": [
    "# Import libraries\n",
    "import cv2\n",
    "\n",
    "print(\"Installed opencv version\", cv2.__version__)\n",
    "\n",
    "import matplotlib.pyplot as plt\n",
    "import pandas as pd\n",
    "import numpy as np\n",
    "\n",
    "print(\"Installed numpy version\", np.__version__)"
   ],
   "id": "7df9140457caed5e",
   "outputs": [
    {
     "name": "stdout",
     "output_type": "stream",
     "text": [
      "Installed opencv version 4.10.0\n",
      "Installed numpy version 1.26.4\n"
     ]
    }
   ],
   "execution_count": 1
  },
  {
   "metadata": {
    "ExecuteTime": {
     "end_time": "2025-01-01T12:59:15.998623Z",
     "start_time": "2025-01-01T12:59:15.991599Z"
    }
   },
   "cell_type": "code",
   "source": [
    "import numpy as np\n",
    "import os\n",
    "import cv2\n",
    "import time\n",
    "from IPython.core.display import display, HTML\n",
    "\n",
    "display(HTML(\"<style>\"\n",
    "\t\t\t + \"#notebook { padding-top:0px !important; } \"\n",
    "\t\t\t + \".container { width:100% !important; } \"\n",
    "\t\t\t + \".end_space { min-height:0px !important; } \"\n",
    "\t\t\t + \"</style>\"))\n",
    "\n",
    "# params for ShiTomasi corner detection\n",
    "feature_params = dict(maxCorners=100,\n",
    "\t\t\t\t\t  qualityLevel=0.3,\n",
    "\t\t\t\t\t  minDistance=7,\n",
    "\t\t\t\t\t  blockSize=7)\n",
    "\n",
    "# Parameters for lucas kanade optical flow\n",
    "lk_params = dict(winSize=(15, 15),\n",
    "\t\t\t\t maxLevel=2,\n",
    "\t\t\t\t criteria=(cv2.TERM_CRITERIA_EPS | cv2.TERM_CRITERIA_COUNT, 10, 0.03))\n",
    "\n",
    "vidPath = \"data/test.avi\""
   ],
   "id": "6225b98c800193a8",
   "outputs": [
    {
     "name": "stderr",
     "output_type": "stream",
     "text": [
      "/var/folders/3m/522x29411p7054b0gby5t_km0000gn/T/ipykernel_13842/3880201517.py:5: DeprecationWarning: Importing display from IPython.core.display is deprecated since IPython 7.14, please import from IPython.display\n",
      "  from IPython.core.display import display, HTML\n"
     ]
    },
    {
     "data": {
      "text/plain": [
       "<IPython.core.display.HTML object>"
      ],
      "text/html": [
       "<style>#notebook { padding-top:0px !important; } .container { width:100% !important; } .end_space { min-height:0px !important; } </style>"
      ]
     },
     "metadata": {},
     "output_type": "display_data"
    }
   ],
   "execution_count": 3
  },
  {
   "metadata": {
    "ExecuteTime": {
     "end_time": "2025-01-01T13:02:30.655064Z",
     "start_time": "2025-01-01T13:02:12.343823Z"
    }
   },
   "cell_type": "code",
   "source": [
    "cap = cv2.VideoCapture(vidPath)\n",
    "\n",
    "# Create some random colors\n",
    "color = np.random.randint(0, 255, (100, 3))\n",
    "\n",
    "# Take first frame and find corners in it\n",
    "ret, old_frame = cap.read()\n",
    "old_gray = cv2.cvtColor(old_frame, cv2.COLOR_BGR2GRAY)\n",
    "p0 = cv2.goodFeaturesToTrack(old_gray, mask=None, **feature_params)\n",
    "\n",
    "# Create a mask image for drawing purposes\n",
    "mask = np.zeros_like(old_frame)\n",
    "etime = 0\n",
    "while 1:\n",
    "\tret, frame = cap.read()\n",
    "\tif frame is None:\n",
    "\t\tbreak\n",
    "\tframe_gray = cv2.cvtColor(frame, cv2.COLOR_RGB2GRAY)\n",
    "\n",
    "\t# calculate optical flow\n",
    "\tt = time.perf_counter()\n",
    "\tp1, st, err = cv2.calcOpticalFlowPyrLK(old_gray, frame_gray, p0, None, **lk_params)\n",
    "\tetime += (time.perf_counter() - t)\n",
    "\n",
    "\t# Select good points\n",
    "\tgood_new = p1[st == 1]\n",
    "\tgood_old = p0[st == 1]\n",
    "\n",
    "\t# draw the tracks\n",
    "\tfor i, (new, old) in enumerate(zip(good_new, good_old)):\n",
    "\t\ta, b = new.astype('int').ravel()\n",
    "\t\tc, d = old.astype('int').ravel()\n",
    "\t\tmask = cv2.line(mask, (a, b), (c, d), color[i].tolist(), 2)\n",
    "\t\tframe = cv2.circle(frame, (a, b), 5, color[i].tolist(), -1)\n",
    "\timg = cv2.add(frame, mask)\n",
    "\n",
    "\tcv2.imshow('frame', img)\n",
    "\tk = cv2.waitKey(30) & 0xff\n",
    "\tif k == 27:\n",
    "\t\tbreak\n",
    "\n",
    "\t# Now update the previous frame and previous points\n",
    "\told_gray = frame_gray.copy()\n",
    "\tp0 = good_new.reshape(-1, 1, 2)\n",
    "\n",
    "cv2.destroyAllWindows()\n",
    "cap.release()\n"
   ],
   "id": "86ff4109de6d3968",
   "outputs": [],
   "execution_count": 6
  }
 ],
 "metadata": {
  "kernelspec": {
   "display_name": "Python 3",
   "language": "python",
   "name": "python3"
  },
  "language_info": {
   "codemirror_mode": {
    "name": "ipython",
    "version": 2
   },
   "file_extension": ".py",
   "mimetype": "text/x-python",
   "name": "python",
   "nbconvert_exporter": "python",
   "pygments_lexer": "ipython2",
   "version": "2.7.6"
  }
 },
 "nbformat": 4,
 "nbformat_minor": 5
}
