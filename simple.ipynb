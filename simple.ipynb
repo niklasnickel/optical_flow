{
 "cells": [
  {
   "metadata": {},
   "cell_type": "markdown",
   "source": "# Optical flow",
   "id": "8a77807f92f26ee"
  },
  {
   "metadata": {
    "ExecuteTime": {
     "end_time": "2024-12-28T17:07:38.121260Z",
     "start_time": "2024-12-28T17:06:16.903745Z"
    }
   },
   "cell_type": "code",
   "source": [
    "# Import libraries\n",
    "!pip install --user -r requirements.txt"
   ],
   "id": "cd791e75628c6d35",
   "outputs": [
    {
     "name": "stdout",
     "output_type": "stream",
     "text": [
      "Collecting numpy==2.0.2 (from -r requirements.txt (line 1))\r\n",
      "  Downloading numpy-2.0.2.tar.gz (18.9 MB)\r\n",
      "\u001B[2K     \u001B[90m━━━━━━━━━━━━━━━━━━━━━━━━━━━━━━━━━━━━━━━━\u001B[0m \u001B[32m18.9/18.9 MB\u001B[0m \u001B[31m6.1 MB/s\u001B[0m eta \u001B[36m0:00:00\u001B[0m00:01\u001B[0m00:01\u001B[0m\r\n",
      "\u001B[?25h  Installing build dependencies ... \u001B[?25ldone\r\n",
      "\u001B[?25h  Getting requirements to build wheel ... \u001B[?25ldone\r\n",
      "\u001B[?25h  Installing backend dependencies ... \u001B[?25ldone\r\n",
      "\u001B[?25h  Preparing metadata (pyproject.toml) ... \u001B[?25ldone\r\n",
      "\u001B[?25hRequirement already satisfied: opencv-python-headless in /Users/niklasnickel/Library/Python/3.13/lib/python/site-packages (from -r requirements.txt (line 2)) (4.10.0.84)\r\n",
      "Requirement already satisfied: matplotlib in /Library/Frameworks/Python.framework/Versions/3.13/lib/python3.13/site-packages (from -r requirements.txt (line 3)) (3.9.2)\r\n",
      "Requirement already satisfied: contourpy>=1.0.1 in /Library/Frameworks/Python.framework/Versions/3.13/lib/python3.13/site-packages (from matplotlib->-r requirements.txt (line 3)) (1.3.0)\r\n",
      "Requirement already satisfied: cycler>=0.10 in /Library/Frameworks/Python.framework/Versions/3.13/lib/python3.13/site-packages (from matplotlib->-r requirements.txt (line 3)) (0.12.1)\r\n",
      "Requirement already satisfied: fonttools>=4.22.0 in /Library/Frameworks/Python.framework/Versions/3.13/lib/python3.13/site-packages (from matplotlib->-r requirements.txt (line 3)) (4.54.1)\r\n",
      "Requirement already satisfied: kiwisolver>=1.3.1 in /Library/Frameworks/Python.framework/Versions/3.13/lib/python3.13/site-packages (from matplotlib->-r requirements.txt (line 3)) (1.4.7)\r\n",
      "Requirement already satisfied: packaging>=20.0 in /Library/Frameworks/Python.framework/Versions/3.13/lib/python3.13/site-packages (from matplotlib->-r requirements.txt (line 3)) (24.1)\r\n",
      "Requirement already satisfied: pillow>=8 in /Library/Frameworks/Python.framework/Versions/3.13/lib/python3.13/site-packages (from matplotlib->-r requirements.txt (line 3)) (11.0.0)\r\n",
      "Requirement already satisfied: pyparsing>=2.3.1 in /Library/Frameworks/Python.framework/Versions/3.13/lib/python3.13/site-packages (from matplotlib->-r requirements.txt (line 3)) (3.2.0)\r\n",
      "Requirement already satisfied: python-dateutil>=2.7 in /Library/Frameworks/Python.framework/Versions/3.13/lib/python3.13/site-packages (from matplotlib->-r requirements.txt (line 3)) (2.9.0.post0)\r\n",
      "Requirement already satisfied: six>=1.5 in /Library/Frameworks/Python.framework/Versions/3.13/lib/python3.13/site-packages (from python-dateutil>=2.7->matplotlib->-r requirements.txt (line 3)) (1.16.0)\r\n",
      "Building wheels for collected packages: numpy\r\n",
      "  Building wheel for numpy (pyproject.toml) ... \u001B[?25ldone\r\n",
      "\u001B[?25h  Created wheel for numpy: filename=numpy-2.0.2-cp313-cp313-macosx_15_0_arm64.whl size=4983725 sha256=3b52516c7b9ad93e5e10815e86bd720fadddf2a088cb18217e7a58ad05a84f5e\r\n",
      "  Stored in directory: /Users/niklasnickel/Library/Caches/pip/wheels/bc/ef/e8/cf84dd8a34d77dcede062417e099659e1f48d17c8befac28c9\r\n",
      "Successfully built numpy\r\n",
      "Installing collected packages: numpy\r\n",
      "\u001B[33m  WARNING: The scripts f2py and numpy-config are installed in '/Users/niklasnickel/Library/Python/3.13/bin' which is not on PATH.\r\n",
      "  Consider adding this directory to PATH or, if you prefer to suppress this warning, use --no-warn-script-location.\u001B[0m\u001B[33m\r\n",
      "\u001B[0mSuccessfully installed numpy-2.0.2\r\n"
     ]
    }
   ],
   "execution_count": 13
  },
  {
   "metadata": {
    "ExecuteTime": {
     "end_time": "2024-12-28T17:08:17.819428Z",
     "start_time": "2024-12-28T17:08:16.015391Z"
    }
   },
   "cell_type": "code",
   "source": [
    "import cv2\n",
    "print(\"Installed opencv version\", cv2.__version__)\n",
    "\n",
    "import matplotlib.pyplot as plt\n",
    "import pandas as pd"
   ],
   "id": "7df9140457caed5e",
   "outputs": [
    {
     "name": "stdout",
     "output_type": "stream",
     "text": [
      "Installed opencv version 4.10.0\n"
     ]
    }
   ],
   "execution_count": 14
  },
  {
   "metadata": {},
   "cell_type": "markdown",
   "source": [
    "### Interactive tables\n",
    "\n",
    "Effortlessly view, navigate, sort, and filter data. Create charts and access essential data insights, including descriptive statistics and missing values – all without writing a single line of code."
   ],
   "id": "2e44cfe2f556cba1"
  },
  {
   "metadata": {
    "collapsed": true
   },
   "cell_type": "code",
   "source": [
    "# Defining data for the dataframe\n",
    "data = {\n",
    "    'Basket': ['A', 'B', 'C', 'D', 'E', 'F', 'G', 'H', 'I', 'J', 'K', 'L', 'M', 'N', 'O', 'P'],\n",
    "    'Apples': [10, 20, 30, 56, 40, 40, 67, 47, 40, 4, 49, 52, 5, 56, 35, 45],\n",
    "    'Bananas': [15, 6, 3, 45, 67, 44, 45, 11, 14, 18, 13, 12, 1, 34, 12, 12]\n",
    "}\n",
    "\n",
    "# Creating the dataframe\n",
    "df = pd.DataFrame(data)\n",
    "\n",
    "df"
   ],
   "id": "initial_id",
   "outputs": [],
   "execution_count": null
  },
  {
   "metadata": {},
   "cell_type": "markdown",
   "source": [
    "### Visualization in IDE\n",
    "\n",
    "Create graphs and visualizations that match your chosen color scheme."
   ],
   "id": "62a8c026dc794d85"
  },
  {
   "metadata": {},
   "cell_type": "code",
   "source": [
    "# Calculate the sums\n",
    "sum_apples = df['Apples'].sum()\n",
    "sum_bananas = df['Bananas'].sum()\n",
    "\n",
    "# Create a bar chart\n",
    "plt.bar(['Apples', 'Bananas'], [sum_apples, sum_bananas], color=['red', 'blue'])\n",
    "\n",
    "# Set a title\n",
    "plt.title('Comparison of total Apples and Bananas')\n",
    "\n",
    "# Show the plot\n",
    "plt.show()"
   ],
   "id": "e65e58a1b7e04493",
   "outputs": [],
   "execution_count": null
  }
 ],
 "metadata": {
  "kernelspec": {
   "display_name": "Python 3",
   "language": "python",
   "name": "python3"
  },
  "language_info": {
   "codemirror_mode": {
    "name": "ipython",
    "version": 2
   },
   "file_extension": ".py",
   "mimetype": "text/x-python",
   "name": "python",
   "nbconvert_exporter": "python",
   "pygments_lexer": "ipython2",
   "version": "2.7.6"
  }
 },
 "nbformat": 4,
 "nbformat_minor": 5
}
